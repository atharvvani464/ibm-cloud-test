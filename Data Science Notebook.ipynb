{
    "cells": [
        {
            "cell_type": "markdown",
            "metadata": {
                "collapsed": true,
                "id": "228acbb9-4d78-46ae-911f-c15d54edf199",
                "jupyter": {
                    "outputs_hidden": true
                }
            },
            "source": "## This programs prints hello world"
        },
        {
            "cell_type": "code",
            "execution_count": 7,
            "metadata": {
                "id": "b892b0e0-7357-4e65-8e68-27174bd61eba"
            },
            "outputs": [
                {
                    "name": "stdout",
                    "output_type": "stream",
                    "text": "hello world\n"
                },
                {
                    "data": {
                        "text/plain": "150"
                    },
                    "execution_count": 7,
                    "metadata": {},
                    "output_type": "execute_result"
                }
            ],
            "source": "print(\"hello world\")\n100+50"
        },
        {
            "cell_type": "code",
            "execution_count": null,
            "metadata": {
                "id": "9c3ecfbd-0b10-4161-bad6-4db2d3ba3cba"
            },
            "outputs": [],
            "source": ""
        }
    ],
    "metadata": {
        "kernelspec": {
            "display_name": "Python 3.11",
            "language": "python",
            "name": "python3"
        },
        "language_info": {
            "codemirror_mode": {
                "name": "ipython",
                "version": 3
            },
            "file_extension": ".py",
            "mimetype": "text/x-python",
            "name": "python",
            "nbconvert_exporter": "python",
            "pygments_lexer": "ipython3",
            "version": "3.11.13"
        }
    },
    "nbformat": 4,
    "nbformat_minor": 4
}